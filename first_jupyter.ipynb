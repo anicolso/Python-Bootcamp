{
 "cells": [
  {
   "cell_type": "code",
   "execution_count": null,
   "id": "e99ebac7",
   "metadata": {},
   "outputs": [],
   "source": [
    "print('helloooo')"
   ]
  },
  {
   "cell_type": "code",
   "execution_count": 1,
   "id": "d70eebc6",
   "metadata": {},
   "outputs": [],
   "source": [
    "a = 100"
   ]
  },
  {
   "cell_type": "code",
   "execution_count": 3,
   "id": "4ed42a39",
   "metadata": {},
   "outputs": [],
   "source": [
    "b = a + a"
   ]
  },
  {
   "cell_type": "code",
   "execution_count": 4,
   "id": "72bb48b7",
   "metadata": {},
   "outputs": [
    {
     "data": {
      "text/plain": [
       "100"
      ]
     },
     "execution_count": 4,
     "metadata": {},
     "output_type": "execute_result"
    }
   ],
   "source": [
    "a"
   ]
  },
  {
   "cell_type": "code",
   "execution_count": 5,
   "id": "454ef332",
   "metadata": {},
   "outputs": [
    {
     "data": {
      "text/plain": [
       "200"
      ]
     },
     "execution_count": 5,
     "metadata": {},
     "output_type": "execute_result"
    }
   ],
   "source": [
    "b"
   ]
  },
  {
   "cell_type": "code",
   "execution_count": 6,
   "id": "2fc0e674",
   "metadata": {},
   "outputs": [
    {
     "data": {
      "text/plain": [
       "int"
      ]
     },
     "execution_count": 6,
     "metadata": {},
     "output_type": "execute_result"
    }
   ],
   "source": [
    "type(a)"
   ]
  },
  {
   "cell_type": "code",
   "execution_count": 7,
   "id": "481c1990",
   "metadata": {},
   "outputs": [],
   "source": [
    "a = 3.2"
   ]
  },
  {
   "cell_type": "code",
   "execution_count": 8,
   "id": "e51a479c",
   "metadata": {},
   "outputs": [
    {
     "data": {
      "text/plain": [
       "float"
      ]
     },
     "execution_count": 8,
     "metadata": {},
     "output_type": "execute_result"
    }
   ],
   "source": [
    "type(a)"
   ]
  },
  {
   "cell_type": "code",
   "execution_count": 9,
   "id": "d1c7c81d",
   "metadata": {},
   "outputs": [],
   "source": [
    "# Python offers reverse indexing to grab the end of a string "
   ]
  },
  {
   "cell_type": "code",
   "execution_count": 12,
   "id": "c78d86b7",
   "metadata": {},
   "outputs": [],
   "source": [
    "spaghetti = 'spaghetti'"
   ]
  },
  {
   "cell_type": "code",
   "execution_count": 13,
   "id": "4b3b6208",
   "metadata": {},
   "outputs": [],
   "source": [
    "spag = spaghetti[0:4:2]"
   ]
  },
  {
   "cell_type": "code",
   "execution_count": 14,
   "id": "19760475",
   "metadata": {},
   "outputs": [
    {
     "name": "stdout",
     "output_type": "stream",
     "text": [
      "sa\n"
     ]
    }
   ],
   "source": [
    "print(spag)"
   ]
  },
  {
   "cell_type": "code",
   "execution_count": null,
   "id": "eb1ddffb",
   "metadata": {},
   "outputs": [],
   "source": []
  }
 ],
 "metadata": {
  "kernelspec": {
   "display_name": "Python 3 (ipykernel)",
   "language": "python",
   "name": "python3"
  },
  "language_info": {
   "codemirror_mode": {
    "name": "ipython",
    "version": 3
   },
   "file_extension": ".py",
   "mimetype": "text/x-python",
   "name": "python",
   "nbconvert_exporter": "python",
   "pygments_lexer": "ipython3",
   "version": "3.9.12"
  }
 },
 "nbformat": 4,
 "nbformat_minor": 5
}
